{
 "cells": [
  {
   "cell_type": "code",
   "execution_count": 100,
   "metadata": {},
   "outputs": [],
   "source": [
    "from selenium.common.exceptions import WebDriverException, NoSuchElementException\n",
    "from selenium.webdriver.common.by import By\n",
    "\n",
    "import pandas as pd\n",
    "import undetected_chromedriver as webdriver\n",
    "import json\n",
    "import random\n",
    "import csv"
   ]
  },
  {
   "cell_type": "code",
   "execution_count": 130,
   "metadata": {},
   "outputs": [],
   "source": [
    "# Get sample list of artists to search and get their web pages\n",
    "artist_list = [    \n",
    "     \"Coldplay\",\n",
    "     \"Radiohead\",\n",
    "     \"Red Hot Chili Peppers\",\n",
    "     \"Rihanna\",\n",
    "     \"Eminem\"  \n",
    "]"
   ]
  },
  {
   "cell_type": "code",
   "execution_count": 131,
   "metadata": {},
   "outputs": [],
   "source": [
    "# Initialize webdriver\n",
    "\n",
    "driver = webdriver.Chrome()"
   ]
  },
  {
   "cell_type": "code",
   "execution_count": 133,
   "metadata": {},
   "outputs": [],
   "source": [
    "# Search artist name on website, pull URL to first search result\n",
    "# Write page URL to file every 50 artists pulled in case bot detection kicks in\n",
    "\n",
    "band_page = []  # List to store band page URL\n",
    "for artist in artist_list:\n",
    "    artist_format = artist.replace(\" \", \"+\")\n",
    "    search_query = f\"https://www.concertarchives.org/bands?search={artist_format}\"\n",
    "    driver.get(search_query)\n",
    "    \n",
    "    try:\n",
    "        href_element = driver.find_element(By.XPATH, \"//strong/a\").get_attribute(\"href\")\n",
    "        band_page.append([artist, href_element])\n",
    "    except NoSuchElementException:  # Skip if no search result found\n",
    "        continue\n",
    "        \n",
    "    if len(band_page) == 50:  # Write to file every 50 artists\n",
    "        with open(\"concert_band_page.csv\", \"a\") as tfile:\n",
    "            writer = csv.writer(tfile)\n",
    "            writer.writerows(band_page)\n",
    "            \n",
    "        band_page = []\n",
    "        \n",
    "    time.sleep(random.random() + 0.5)  # Randomly wait 0.5 - 1.5 seconds before next artist\n",
    "    \n",
    "# Save remaining scraped band page URLs to file\n",
    "if len(band_page) != 0:\n",
    "    with open(\"concert_band_page.csv\", \"a\") as tfile:\n",
    "        writer = csv.writer(tfile)\n",
    "        writer.writerows(band_page)"
   ]
  },
  {
   "cell_type": "code",
   "execution_count": 135,
   "metadata": {},
   "outputs": [
    {
     "data": {
      "text/plain": [
       "[['Coldplay', 'https://www.concertarchives.org/bands/coldplay'],\n",
       " ['Radiohead', 'https://www.concertarchives.org/bands/radiohead'],\n",
       " ['Red Hot Chili Peppers',\n",
       "  'https://www.concertarchives.org/bands/red-hot-chili-peppers'],\n",
       " ['Rihanna', 'https://www.concertarchives.org/bands/rihanna'],\n",
       " ['Eminem', 'https://www.concertarchives.org/bands/eminem']]"
      ]
     },
     "execution_count": 135,
     "metadata": {},
     "output_type": "execute_result"
    }
   ],
   "source": [
    "# Import list of band page URLs\n",
    "band_page = []\n",
    "with open(\"concert_band_page.csv\", \"r\") as tfile:\n",
    "    reader = csv.reader(tfile)\n",
    "    \n",
    "    for row in reader:\n",
    "        band_page.append(row)\n",
    "        \n",
    "band_page[:5]"
   ]
  },
  {
   "cell_type": "code",
   "execution_count": 128,
   "metadata": {},
   "outputs": [],
   "source": [
    "# Initialize webdriver again if you took a break between getting\n",
    "# artist URL and scraping artist page\n",
    "\n",
    "driver = webdriver.Chrome()"
   ]
  },
  {
   "cell_type": "code",
   "execution_count": 137,
   "metadata": {},
   "outputs": [],
   "source": [
    "# Loop through artists, get concerts info\n",
    "master_df = None\n",
    "is_master_df_set = False\n",
    "\n",
    "for artist, artist_page in band_page:\n",
    "    # Load page and get table HTML\n",
    "    for page in range(1, 6):\n",
    "        query = f\"{artist_page}?page={page}\"\n",
    "        try:\n",
    "            driver.get(query)\n",
    "            table_element = driver.find_element(By.ID, \"band-show-table-condensed\")\n",
    "            table_html = table_element.get_attribute(\"outerHTML\")\n",
    "\n",
    "            # Pass to Pandas, condense to one data frame\n",
    "            df_list = pd.read_html(table_html)\n",
    "            df = df_list[0]\n",
    "\n",
    "            for i in range(1,len(df_list)):\n",
    "                next_df = df_list[i]\n",
    "                next_df.columns = df.columns  # Format columns for concat\n",
    "                df = pd.concat([df, next_df])\n",
    "        except:\n",
    "            pass\n",
    "        \n",
    "        if is_master_df_set:\n",
    "            master_df = pd.concat([master_df, df])\n",
    "        else:\n",
    "            master_df = df.copy()\n",
    "    \n",
    "    master_df[\"Artist\"] = artist\n",
    "    master_df.to_csv(\"concerts.csv\", mode=\"a+\", header=False)"
   ]
  },
  {
   "cell_type": "code",
   "execution_count": null,
   "metadata": {},
   "outputs": [],
   "source": []
  }
 ],
 "metadata": {
  "kernelspec": {
   "display_name": "Python 3",
   "language": "python",
   "name": "python3"
  },
  "language_info": {
   "codemirror_mode": {
    "name": "ipython",
    "version": 3
   },
   "file_extension": ".py",
   "mimetype": "text/x-python",
   "name": "python",
   "nbconvert_exporter": "python",
   "pygments_lexer": "ipython3",
   "version": "3.7.6"
  }
 },
 "nbformat": 4,
 "nbformat_minor": 4
}
